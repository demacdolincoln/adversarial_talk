{
  "nbformat": 4,
  "nbformat_minor": 0,
  "metadata": {
    "colab": {
      "name": "attack.ipynb",
      "provenance": [],
      "collapsed_sections": []
    },
    "kernelspec": {
      "name": "python3",
      "display_name": "Python 3"
    },
    "widgets": {
      "application/vnd.jupyter.widget-state+json": {
        "86367c3e1bb84cd2b46c6d7b9608b4a8": {
          "model_module": "@jupyter-widgets/controls",
          "model_name": "HBoxModel",
          "state": {
            "_view_name": "HBoxView",
            "_dom_classes": [],
            "_model_name": "HBoxModel",
            "_view_module": "@jupyter-widgets/controls",
            "_model_module_version": "1.5.0",
            "_view_count": null,
            "_view_module_version": "1.5.0",
            "box_style": "",
            "layout": "IPY_MODEL_05aaaf70407448b296d59b9e9e16a9d1",
            "_model_module": "@jupyter-widgets/controls",
            "children": [
              "IPY_MODEL_2ef00ba0ce0b49128b8c0dd068c33546",
              "IPY_MODEL_1eed66d7f9eb4165bb5fe9e07fbc2fd2"
            ]
          }
        },
        "05aaaf70407448b296d59b9e9e16a9d1": {
          "model_module": "@jupyter-widgets/base",
          "model_name": "LayoutModel",
          "state": {
            "_view_name": "LayoutView",
            "grid_template_rows": null,
            "right": null,
            "justify_content": null,
            "_view_module": "@jupyter-widgets/base",
            "overflow": null,
            "_model_module_version": "1.2.0",
            "_view_count": null,
            "flex_flow": null,
            "width": null,
            "min_width": null,
            "border": null,
            "align_items": null,
            "bottom": null,
            "_model_module": "@jupyter-widgets/base",
            "top": null,
            "grid_column": null,
            "overflow_y": null,
            "overflow_x": null,
            "grid_auto_flow": null,
            "grid_area": null,
            "grid_template_columns": null,
            "flex": null,
            "_model_name": "LayoutModel",
            "justify_items": null,
            "grid_row": null,
            "max_height": null,
            "align_content": null,
            "visibility": null,
            "align_self": null,
            "height": null,
            "min_height": null,
            "padding": null,
            "grid_auto_rows": null,
            "grid_gap": null,
            "max_width": null,
            "order": null,
            "_view_module_version": "1.2.0",
            "grid_template_areas": null,
            "object_position": null,
            "object_fit": null,
            "grid_auto_columns": null,
            "margin": null,
            "display": null,
            "left": null
          }
        },
        "2ef00ba0ce0b49128b8c0dd068c33546": {
          "model_module": "@jupyter-widgets/controls",
          "model_name": "IntProgressModel",
          "state": {
            "_view_name": "ProgressView",
            "style": "IPY_MODEL_ba56a7cb91f24c7f927861183a18b3e2",
            "_dom_classes": [],
            "description": "5 :0.176",
            "_model_name": "IntProgressModel",
            "bar_style": "success",
            "max": 1,
            "_view_module": "@jupyter-widgets/controls",
            "_model_module_version": "1.5.0",
            "value": 1,
            "_view_count": null,
            "_view_module_version": "1.5.0",
            "orientation": "horizontal",
            "min": 0,
            "description_tooltip": null,
            "_model_module": "@jupyter-widgets/controls",
            "layout": "IPY_MODEL_7e2fe98dc568461b91c3f0cea57180cf"
          }
        },
        "1eed66d7f9eb4165bb5fe9e07fbc2fd2": {
          "model_module": "@jupyter-widgets/controls",
          "model_name": "HTMLModel",
          "state": {
            "_view_name": "HTMLView",
            "style": "IPY_MODEL_e111ad47eaa84a1987ebfabe209d4028",
            "_dom_classes": [],
            "description": "",
            "_model_name": "HTMLModel",
            "placeholder": "​",
            "_view_module": "@jupyter-widgets/controls",
            "_model_module_version": "1.5.0",
            "value": "264 epochs [00:05, 51.43 epochs/s]",
            "_view_count": null,
            "_view_module_version": "1.5.0",
            "description_tooltip": null,
            "_model_module": "@jupyter-widgets/controls",
            "layout": "IPY_MODEL_1c978b4165ae44e582662495bef0bcd6"
          }
        },
        "ba56a7cb91f24c7f927861183a18b3e2": {
          "model_module": "@jupyter-widgets/controls",
          "model_name": "ProgressStyleModel",
          "state": {
            "_view_name": "StyleView",
            "_model_name": "ProgressStyleModel",
            "description_width": "initial",
            "_view_module": "@jupyter-widgets/base",
            "_model_module_version": "1.5.0",
            "_view_count": null,
            "_view_module_version": "1.2.0",
            "bar_color": null,
            "_model_module": "@jupyter-widgets/controls"
          }
        },
        "7e2fe98dc568461b91c3f0cea57180cf": {
          "model_module": "@jupyter-widgets/base",
          "model_name": "LayoutModel",
          "state": {
            "_view_name": "LayoutView",
            "grid_template_rows": null,
            "right": null,
            "justify_content": null,
            "_view_module": "@jupyter-widgets/base",
            "overflow": null,
            "_model_module_version": "1.2.0",
            "_view_count": null,
            "flex_flow": null,
            "width": null,
            "min_width": null,
            "border": null,
            "align_items": null,
            "bottom": null,
            "_model_module": "@jupyter-widgets/base",
            "top": null,
            "grid_column": null,
            "overflow_y": null,
            "overflow_x": null,
            "grid_auto_flow": null,
            "grid_area": null,
            "grid_template_columns": null,
            "flex": null,
            "_model_name": "LayoutModel",
            "justify_items": null,
            "grid_row": null,
            "max_height": null,
            "align_content": null,
            "visibility": null,
            "align_self": null,
            "height": null,
            "min_height": null,
            "padding": null,
            "grid_auto_rows": null,
            "grid_gap": null,
            "max_width": null,
            "order": null,
            "_view_module_version": "1.2.0",
            "grid_template_areas": null,
            "object_position": null,
            "object_fit": null,
            "grid_auto_columns": null,
            "margin": null,
            "display": null,
            "left": null
          }
        },
        "e111ad47eaa84a1987ebfabe209d4028": {
          "model_module": "@jupyter-widgets/controls",
          "model_name": "DescriptionStyleModel",
          "state": {
            "_view_name": "StyleView",
            "_model_name": "DescriptionStyleModel",
            "description_width": "",
            "_view_module": "@jupyter-widgets/base",
            "_model_module_version": "1.5.0",
            "_view_count": null,
            "_view_module_version": "1.2.0",
            "_model_module": "@jupyter-widgets/controls"
          }
        },
        "1c978b4165ae44e582662495bef0bcd6": {
          "model_module": "@jupyter-widgets/base",
          "model_name": "LayoutModel",
          "state": {
            "_view_name": "LayoutView",
            "grid_template_rows": null,
            "right": null,
            "justify_content": null,
            "_view_module": "@jupyter-widgets/base",
            "overflow": null,
            "_model_module_version": "1.2.0",
            "_view_count": null,
            "flex_flow": null,
            "width": null,
            "min_width": null,
            "border": null,
            "align_items": null,
            "bottom": null,
            "_model_module": "@jupyter-widgets/base",
            "top": null,
            "grid_column": null,
            "overflow_y": null,
            "overflow_x": null,
            "grid_auto_flow": null,
            "grid_area": null,
            "grid_template_columns": null,
            "flex": null,
            "_model_name": "LayoutModel",
            "justify_items": null,
            "grid_row": null,
            "max_height": null,
            "align_content": null,
            "visibility": null,
            "align_self": null,
            "height": null,
            "min_height": null,
            "padding": null,
            "grid_auto_rows": null,
            "grid_gap": null,
            "max_width": null,
            "order": null,
            "_view_module_version": "1.2.0",
            "grid_template_areas": null,
            "object_position": null,
            "object_fit": null,
            "grid_auto_columns": null,
            "margin": null,
            "display": null,
            "left": null
          }
        }
      }
    }
  },
  "cells": [
    {
      "cell_type": "code",
      "metadata": {
        "id": "jDMYoECuPPZU",
        "colab_type": "code",
        "outputId": "44b8debe-2974-41c0-f5c1-17c2cda1eb8c",
        "colab": {
          "base_uri": "https://localhost:8080/",
          "height": 34
        }
      },
      "source": [
        "%pylab inline\n",
        "\n",
        "plt.style.use('dark_background')"
      ],
      "execution_count": 1,
      "outputs": [
        {
          "output_type": "stream",
          "text": [
            "Populating the interactive namespace from numpy and matplotlib\n"
          ],
          "name": "stdout"
        }
      ]
    },
    {
      "cell_type": "code",
      "metadata": {
        "id": "ltYrjz_EPF4d",
        "colab_type": "code",
        "colab": {}
      },
      "source": [
        "import torch\n",
        "from torch import nn\n",
        "from torchvision.datasets import MNIST\n",
        "\n",
        "from tqdm import tqdm_notebook as tqdm"
      ],
      "execution_count": 0,
      "outputs": []
    },
    {
      "cell_type": "code",
      "metadata": {
        "id": "xuI10xhUPWOJ",
        "colab_type": "code",
        "colab": {}
      },
      "source": [
        "mnist = MNIST('.', download=True)"
      ],
      "execution_count": 0,
      "outputs": []
    },
    {
      "cell_type": "code",
      "metadata": {
        "id": "jqrNFy18PZRA",
        "colab_type": "code",
        "outputId": "cc5a3439-f65b-4895-e28c-578548ae27f3",
        "colab": {
          "base_uri": "https://localhost:8080/",
          "height": 173
        }
      },
      "source": [
        "class Data(torch.utils.data.Dataset):\n",
        "    def __init__(self, x, y):\n",
        "        self.x = x.unsqueeze(1).float()\n",
        "        self.y = y.long()\n",
        "    def __getitem__(self, n):\n",
        "        return self.x[n], self.y[n]\n",
        "\n",
        "    def __len__(self):\n",
        "        return self.y.shape[0]\n",
        "\n",
        "def zscore(mnist, inpt_data):\n",
        "    return (inpt_data - mnist.train_data.float().mean())/mnist.train_data.float().std()\n",
        "\n",
        "train_data = zscore(mnist, mnist.train_data)\n",
        "valid_data = zscore(mnist, mnist.test_data)\n",
        "\n",
        "train = torch.utils.data.DataLoader(\n",
        "    Data(\n",
        "        train_data,\n",
        "        mnist.train_labels\n",
        "    ),\n",
        "    batch_size=120, shuffle=True\n",
        "    )\n",
        "\n",
        "valid = Data(\n",
        "    valid_data,\n",
        "    mnist.test_labels\n",
        "    )\n",
        "valid[:9][0].shape"
      ],
      "execution_count": 4,
      "outputs": [
        {
          "output_type": "stream",
          "text": [
            "/usr/local/lib/python3.6/dist-packages/torchvision/datasets/mnist.py:55: UserWarning: train_data has been renamed data\n",
            "  warnings.warn(\"train_data has been renamed data\")\n",
            "/usr/local/lib/python3.6/dist-packages/torchvision/datasets/mnist.py:60: UserWarning: test_data has been renamed data\n",
            "  warnings.warn(\"test_data has been renamed data\")\n",
            "/usr/local/lib/python3.6/dist-packages/torchvision/datasets/mnist.py:45: UserWarning: train_labels has been renamed targets\n",
            "  warnings.warn(\"train_labels has been renamed targets\")\n",
            "/usr/local/lib/python3.6/dist-packages/torchvision/datasets/mnist.py:50: UserWarning: test_labels has been renamed targets\n",
            "  warnings.warn(\"test_labels has been renamed targets\")\n"
          ],
          "name": "stderr"
        },
        {
          "output_type": "execute_result",
          "data": {
            "text/plain": [
              "torch.Size([9, 1, 28, 28])"
            ]
          },
          "metadata": {
            "tags": []
          },
          "execution_count": 4
        }
      ]
    },
    {
      "cell_type": "code",
      "metadata": {
        "id": "eOWkOA1bP1ZS",
        "colab_type": "code",
        "colab": {}
      },
      "source": [
        "class Model(nn.Module):\n",
        "    def __init__(self):\n",
        "        super(Model, self).__init__()\n",
        "\n",
        "        self.conv0 = nn.Sequential(\n",
        "            nn.Conv2d(1, 64, 2, 1),\n",
        "            nn.Conv2d(64, 128, 2, 1),\n",
        "            nn.LeakyReLU(inplace=0.5),\n",
        "            nn.BatchNorm2d(128)\n",
        "        )\n",
        "\n",
        "        self.conv1 = nn.Sequential(\n",
        "            nn.Conv2d(128, 64, 2, 2),\n",
        "            nn.Conv2d(64, 2, 2, 2),\n",
        "            nn.ReLU(),\n",
        "            nn.MaxPool2d(1)\n",
        "        )\n",
        "\n",
        "        self.fc = nn.Linear(72, 10)\n",
        "\n",
        "    def forward(self, x):\n",
        "        x =  self.conv0(x)\n",
        "        x = self.conv1(x)\n",
        "        # print(x.shape)\n",
        "        x = torch.flatten(x,start_dim=1)\n",
        "        return self.fc(x)"
      ],
      "execution_count": 0,
      "outputs": []
    },
    {
      "cell_type": "code",
      "metadata": {
        "id": "hI2I2Ak1vJRI",
        "colab_type": "code",
        "colab": {}
      },
      "source": [
        "%%bash\n",
        "if [ ! -f model.pth ]; then\n",
        "    wget https://github.com/demacdolincoln/adversarial_talk/raw/master/model.pth\n",
        "fi"
      ],
      "execution_count": 0,
      "outputs": []
    },
    {
      "cell_type": "code",
      "metadata": {
        "id": "jYtiwJhTPdDB",
        "colab_type": "code",
        "colab": {}
      },
      "source": [
        "model = torch.load('model.pth', map_location=torch.device('cpu')).eval()"
      ],
      "execution_count": 0,
      "outputs": []
    },
    {
      "cell_type": "code",
      "metadata": {
        "id": "bqnl8RYcPo8n",
        "colab_type": "code",
        "outputId": "82ed5293-31c0-47a1-d626-a21624ec603d",
        "colab": {
          "base_uri": "https://localhost:8080/",
          "height": 278
        }
      },
      "source": [
        "model"
      ],
      "execution_count": 8,
      "outputs": [
        {
          "output_type": "execute_result",
          "data": {
            "text/plain": [
              "Model(\n",
              "  (conv0): Sequential(\n",
              "    (0): Conv2d(1, 64, kernel_size=(2, 2), stride=(1, 1))\n",
              "    (1): Conv2d(64, 128, kernel_size=(2, 2), stride=(1, 1))\n",
              "    (2): LeakyReLU(negative_slope=0.01, inplace=True)\n",
              "    (3): BatchNorm2d(128, eps=1e-05, momentum=0.1, affine=True, track_running_stats=True)\n",
              "  )\n",
              "  (conv1): Sequential(\n",
              "    (0): Conv2d(128, 64, kernel_size=(2, 2), stride=(2, 2))\n",
              "    (1): Conv2d(64, 2, kernel_size=(2, 2), stride=(2, 2))\n",
              "    (2): ReLU()\n",
              "    (3): MaxPool2d(kernel_size=1, stride=1, padding=0, dilation=1, ceil_mode=False)\n",
              "  )\n",
              "  (fc): Linear(in_features=72, out_features=10, bias=True)\n",
              ")"
            ]
          },
          "metadata": {
            "tags": []
          },
          "execution_count": 8
        }
      ]
    },
    {
      "cell_type": "code",
      "metadata": {
        "id": "8niBoC0QyCjb",
        "colab_type": "code",
        "colab": {}
      },
      "source": [
        "a = torch.randn(1, 1, 28, 28)"
      ],
      "execution_count": 0,
      "outputs": []
    },
    {
      "cell_type": "code",
      "metadata": {
        "id": "CqztSTOezB7Z",
        "colab_type": "code",
        "outputId": "1bd90a07-b8b8-4862-912c-44e7ce57d587",
        "colab": {
          "base_uri": "https://localhost:8080/",
          "height": 338
        }
      },
      "source": [
        "val, label = valid[50:51]\n",
        "test = val + a\n",
        "\n",
        "figsize(5, 5)\n",
        "imshow(test.detach().squeeze().numpy(), cmap=cm.gray_r)\n",
        "title(f\"{model(test).argmax().item()} | {label.item()}\", fontsize=15);"
      ],
      "execution_count": 10,
      "outputs": [
        {
          "output_type": "display_data",
          "data": {
            "image/png": "[encoded data removed]",
            "text/plain": [
              "<Figure size 360x360 with 1 Axes>"
            ]
          },
          "metadata": {
            "tags": []
          }
        }
      ]
    },
    {
      "cell_type": "code",
      "metadata": {
        "id": "q5mVdlmyzGma",
        "colab_type": "code",
        "colab": {}
      },
      "source": [
        "class Generator(torch.nn.Module):\n",
        "    def __init__(self):\n",
        "        super(Generator, self).__init__()\n",
        "        self.conv0 = torch.nn.Sequential(\n",
        "            torch.nn.Conv2d(1, 20, 3),\n",
        "            torch.nn.Conv2d(20, 16, 2),\n",
        "            torch.nn.Conv2d(16, 1, 2),\n",
        "            torch.nn.LeakyReLU(0.2, inplace=True),\n",
        "            torch.nn.BatchNorm2d(1)\n",
        "        )\n",
        "    def forward(self, x,y):\n",
        "        out = self.conv0(x)\n",
        "        out = torch.nn.functional.interpolate(out, 28)\n",
        "        return torch.relu(y - out)\n",
        "\n",
        "generator = Generator()"
      ],
      "execution_count": 0,
      "outputs": []
    },
    {
      "cell_type": "code",
      "metadata": {
        "id": "IfWToMJC6KYL",
        "colab_type": "code",
        "outputId": "d4286b45-acc7-463c-a132-2a27d575802c",
        "colab": {
          "base_uri": "https://localhost:8080/",
          "height": 34
        }
      },
      "source": [
        "out = generator(a, val)\n",
        "out.shape"
      ],
      "execution_count": 12,
      "outputs": [
        {
          "output_type": "execute_result",
          "data": {
            "text/plain": [
              "torch.Size([1, 1, 28, 28])"
            ]
          },
          "metadata": {
            "tags": []
          },
          "execution_count": 12
        }
      ]
    },
    {
      "cell_type": "code",
      "metadata": {
        "id": "5CYTORyq7Dnr",
        "colab_type": "code",
        "colab": {}
      },
      "source": [
        "criterion = torch.nn.CrossEntropyLoss()\n",
        "optimizer = torch.optim.Adam(generator.parameters(), lr=1e-5)"
      ],
      "execution_count": 0,
      "outputs": []
    },
    {
      "cell_type": "code",
      "metadata": {
        "id": "lZzBB1YVEV-A",
        "colab_type": "code",
        "outputId": "bde39814-6d81-492f-8d83-8d848dd32efc",
        "colab": {
          "base_uri": "https://localhost:8080/",
          "height": 101,
          "referenced_widgets": [
            "86367c3e1bb84cd2b46c6d7b9608b4a8",
            "05aaaf70407448b296d59b9e9e16a9d1",
            "2ef00ba0ce0b49128b8c0dd068c33546",
            "1eed66d7f9eb4165bb5fe9e07fbc2fd2",
            "ba56a7cb91f24c7f927861183a18b3e2",
            "7e2fe98dc568461b91c3f0cea57180cf",
            "e111ad47eaa84a1987ebfabe209d4028",
            "1c978b4165ae44e582662495bef0bcd6"
          ]
        }
      },
      "source": [
        "p,v = model(generator(a, val)).argmax().item(), label.item()\n",
        "\n",
        "pbar = tqdm(unit=' epochs')\n",
        "\n",
        "while p == v:\n",
        "    optimizer.zero_grad()\n",
        "\n",
        "    out = generator(a, val)\n",
        "    pred = model(out)\n",
        "    loss = (1 - criterion(pred, label))\n",
        "    loss.backward()\n",
        "    optimizer.step()\n",
        "\n",
        "    p = pred.argmax().item()\n",
        "\n",
        "    pbar.set_description(f'{p} :{loss.item():.3f}', refresh=False)\n",
        "    pbar.update()\n",
        "\n",
        "pbar.close()\n",
        "\n",
        "print('-'*80)\n",
        "print(f'{p} : {loss.item():.3f}')"
      ],
      "execution_count": 14,
      "outputs": [
        {
          "output_type": "display_data",
          "data": {
            "application/vnd.jupyter.widget-view+json": {
              "model_id": "86367c3e1bb84cd2b46c6d7b9608b4a8",
              "version_minor": 0,
              "version_major": 2
            },
            "text/plain": [
              "HBox(children=(IntProgress(value=1, bar_style='info', max=1), HTML(value='')))"
            ]
          },
          "metadata": {
            "tags": []
          }
        },
        {
          "output_type": "stream",
          "text": [
            "\n",
            "--------------------------------------------------------------------------------\n",
            "5 : 0.176\n"
          ],
          "name": "stdout"
        }
      ]
    },
    {
      "cell_type": "code",
      "metadata": {
        "id": "EY6PSyYxFoe9",
        "colab_type": "code",
        "colab": {}
      },
      "source": [
        "t = generator(a, val)"
      ],
      "execution_count": 0,
      "outputs": []
    },
    {
      "cell_type": "code",
      "metadata": {
        "id": "3Tcfe7gMFvoc",
        "colab_type": "code",
        "outputId": "56631f02-90a8-49d4-ffc6-2e1c88ce738c",
        "colab": {
          "base_uri": "https://localhost:8080/",
          "height": 401
        }
      },
      "source": [
        "fig, (ax0, ax1) = plt.subplots(1, 2, figsize=(10, 25), sharey=True)\n",
        "\n",
        "ax0.imshow(val.detach().squeeze().numpy(), cmap=cm.gray_r)\n",
        "ax0.set_title(model(val).argmax().item(), fontsize=20)\n",
        "\n",
        "ax1.imshow(t.detach().squeeze().numpy(), cmap=cm.gray_r)\n",
        "ax1.set_title(model(t).argmax().item(), fontsize=20)\n",
        "\n",
        "fig.tight_layout();"
      ],
      "execution_count": 16,
      "outputs": [
        {
          "output_type": "display_data",
          "data": {
            "image/png": "[encoded data removed]",
            "text/plain": [
              "<Figure size 720x1800 with 2 Axes>"
            ]
          },
          "metadata": {
            "tags": []
          }
        }
      ]
    }
  ]
}